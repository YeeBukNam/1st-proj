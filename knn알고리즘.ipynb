{
 "cells": [
  {
   "cell_type": "code",
   "execution_count": 1,
   "id": "acaf5a34",
   "metadata": {},
   "outputs": [
    {
     "name": "stdout",
     "output_type": "stream",
     "text": [
      "   survived  pclass     sex   age  sibsp  parch     fare embarked  class  \\\n",
      "0         0       3    male  22.0      1      0   7.2500        S  Third   \n",
      "1         1       1  female  38.0      1      0  71.2833        C  First   \n",
      "2         1       3  female  26.0      0      0   7.9250        S  Third   \n",
      "3         1       1  female  35.0      1      0  53.1000        S  First   \n",
      "4         0       3    male  35.0      0      0   8.0500        S  Third   \n",
      "\n",
      "     who  adult_male deck  embark_town alive  alone  \n",
      "0    man        True  NaN  Southampton    no  False  \n",
      "1  woman       False    C    Cherbourg   yes  False  \n",
      "2  woman       False  NaN  Southampton   yes   True  \n",
      "3  woman       False    C  Southampton   yes  False  \n",
      "4    man        True  NaN  Southampton    no   True  \n",
      "\n",
      "\n",
      "   survived  pclass     sex   age  sibsp  parch     fare embarked  class  \\\n",
      "0         0       3    male  22.0      1      0   7.2500        S  Third   \n",
      "1         1       1  female  38.0      1      0  71.2833        C  First   \n",
      "2         1       3  female  26.0      0      0   7.9250        S  Third   \n",
      "3         1       1  female  35.0      1      0  53.1000        S  First   \n",
      "4         0       3    male  35.0      0      0   8.0500        S  Third   \n",
      "\n",
      "     who  adult_male deck  embark_town alive  alone  \n",
      "0    man        True  NaN  Southampton    no  False  \n",
      "1  woman       False    C    Cherbourg   yes  False  \n",
      "2  woman       False  NaN  Southampton   yes   True  \n",
      "3  woman       False    C  Southampton   yes  False  \n",
      "4    man        True  NaN  Southampton    no   True  \n",
      "\n",
      "\n"
     ]
    }
   ],
   "source": [
    "import pandas as pd\n",
    "import seaborn as sns\n",
    "\n",
    "'''\n",
    "[Step 1] 데이터 준비 - Seaborn에서 제공하는 titanic 데이터셋 가져오기\n",
    "'''\n",
    "\n",
    "# load_dataset 함수를 사용하여 데이터프레임으로 변환\n",
    "df = sns.load_dataset('titanic')\n",
    "\n",
    "# 데이터 살펴보기\n",
    "print(df.head())   \n",
    "print('\\n')\n",
    "\n",
    "#  IPython 디스플레이 설정 - 출력할 열의 개수 한도 늘리기\n",
    "pd.set_option('display.max_columns', 15)\n",
    "print(df.head())   \n",
    "print('\\n')"
   ]
  },
  {
   "cell_type": "code",
   "execution_count": 2,
   "id": "8046d166",
   "metadata": {},
   "outputs": [
    {
     "name": "stdout",
     "output_type": "stream",
     "text": [
      "<class 'pandas.core.frame.DataFrame'>\n",
      "RangeIndex: 891 entries, 0 to 890\n",
      "Data columns (total 15 columns):\n",
      " #   Column       Non-Null Count  Dtype   \n",
      "---  ------       --------------  -----   \n",
      " 0   survived     891 non-null    int64   \n",
      " 1   pclass       891 non-null    int64   \n",
      " 2   sex          891 non-null    object  \n",
      " 3   age          714 non-null    float64 \n",
      " 4   sibsp        891 non-null    int64   \n",
      " 5   parch        891 non-null    int64   \n",
      " 6   fare         891 non-null    float64 \n",
      " 7   embarked     889 non-null    object  \n",
      " 8   class        891 non-null    category\n",
      " 9   who          891 non-null    object  \n",
      " 10  adult_male   891 non-null    bool    \n",
      " 11  deck         203 non-null    category\n",
      " 12  embark_town  889 non-null    object  \n",
      " 13  alive        891 non-null    object  \n",
      " 14  alone        891 non-null    bool    \n",
      "dtypes: bool(2), category(2), float64(2), int64(4), object(5)\n",
      "memory usage: 80.7+ KB\n",
      "None\n",
      "\n",
      "\n",
      "['survived' 'pclass' 'sex' 'age' 'sibsp' 'parch' 'fare' 'embarked' 'class'\n",
      " 'who' 'adult_male' 'alive' 'alone']\n",
      "\n",
      "\n",
      "714\n",
      "\n",
      "\n",
      "S\n",
      "\n",
      "\n",
      "          survived      pclass   sex         age       sibsp       parch  \\\n",
      "count   714.000000  714.000000   714  714.000000  714.000000  714.000000   \n",
      "unique         NaN         NaN     2         NaN         NaN         NaN   \n",
      "top            NaN         NaN  male         NaN         NaN         NaN   \n",
      "freq           NaN         NaN   453         NaN         NaN         NaN   \n",
      "mean      0.406162    2.236695   NaN   29.699118    0.512605    0.431373   \n",
      "std       0.491460    0.838250   NaN   14.526497    0.929783    0.853289   \n",
      "min       0.000000    1.000000   NaN    0.420000    0.000000    0.000000   \n",
      "25%       0.000000    1.000000   NaN   20.125000    0.000000    0.000000   \n",
      "50%       0.000000    2.000000   NaN   28.000000    0.000000    0.000000   \n",
      "75%       1.000000    3.000000   NaN   38.000000    1.000000    1.000000   \n",
      "max       1.000000    3.000000   NaN   80.000000    5.000000    6.000000   \n",
      "\n",
      "              fare embarked  class  who adult_male alive alone  \n",
      "count   714.000000      712    714  714        714   714   714  \n",
      "unique         NaN        3      3    3          2     2     2  \n",
      "top            NaN        S  Third  man       True    no  True  \n",
      "freq           NaN      554    355  413        413   424   404  \n",
      "mean     34.694514      NaN    NaN  NaN        NaN   NaN   NaN  \n",
      "std      52.918930      NaN    NaN  NaN        NaN   NaN   NaN  \n",
      "min       0.000000      NaN    NaN  NaN        NaN   NaN   NaN  \n",
      "25%       8.050000      NaN    NaN  NaN        NaN   NaN   NaN  \n",
      "50%      15.741700      NaN    NaN  NaN        NaN   NaN   NaN  \n",
      "75%      33.375000      NaN    NaN  NaN        NaN   NaN   NaN  \n",
      "max     512.329200      NaN    NaN  NaN        NaN   NaN   NaN  \n",
      "\n",
      "\n"
     ]
    }
   ],
   "source": [
    "print(df.info())  \n",
    "print('\\n')\n",
    "\n",
    "# NaN값이 많은 deck 열을 삭제, embarked와 내용이 겹치는 embark_town 열을 삭제\n",
    "rdf = df.drop(['deck', 'embark_town'], axis=1)  \n",
    "print(rdf.columns.values)\n",
    "print('\\n')\n",
    "\n",
    "# age 열에 나이 데이터가 없는 모든 행을 삭제 - age 열(891개 중 177개의 NaN 값)\n",
    "rdf = rdf.dropna(subset=['age'], how='any', axis=0)  \n",
    "print(len(rdf))\n",
    "print('\\n')\n",
    "\n",
    "# embarked 열의 NaN값을 승선도시 중에서 가장 많이 출현한 값으로 치환하기\n",
    "most_freq = rdf['embarked'].value_counts(dropna=True).idxmax()   \n",
    "print(most_freq)\n",
    "print('\\n')\n",
    "\n",
    "print(rdf.describe(include='all'))\n",
    "print('\\n')\n",
    "\n",
    "rdf['embarked'].fillna(most_freq, inplace=True)"
   ]
  },
  {
   "cell_type": "code",
   "execution_count": 3,
   "id": "d78ad73b",
   "metadata": {},
   "outputs": [
    {
     "name": "stdout",
     "output_type": "stream",
     "text": [
      "   survived  pclass     sex   age  sibsp  parch embarked\n",
      "0         0       3    male  22.0      1      0        S\n",
      "1         1       1  female  38.0      1      0        C\n",
      "2         1       3  female  26.0      0      0        S\n",
      "3         1       1  female  35.0      1      0        S\n",
      "4         0       3    male  35.0      0      0        S\n",
      "\n",
      "\n",
      "   survived  pclass   age  sibsp  parch  female  male  town_C  town_Q  town_S\n",
      "0         0       3  22.0      1      0       0     1       0       0       1\n",
      "1         1       1  38.0      1      0       1     0       1       0       0\n",
      "2         1       3  26.0      0      0       1     0       0       0       1\n",
      "3         1       1  35.0      1      0       1     0       0       0       1\n",
      "4         0       3  35.0      0      0       0     1       0       0       1\n",
      "\n",
      "\n"
     ]
    }
   ],
   "source": [
    "# 분석에 활용할 열(속성)을 선택 \n",
    "ndf = rdf[['survived', 'pclass', 'sex', 'age', 'sibsp', 'parch', 'embarked']]\n",
    "print(ndf.head())   \n",
    "print('\\n')\n",
    "\n",
    "# 원핫인코딩 - 범주형 데이터를 모형이 인식할 수 있도록 숫자형으로 변환\n",
    "onehot_sex = pd.get_dummies(ndf['sex'])\n",
    "ndf = pd.concat([ndf, onehot_sex], axis=1)\n",
    "\n",
    "onehot_embarked = pd.get_dummies(ndf['embarked'], prefix='town')\n",
    "ndf = pd.concat([ndf, onehot_embarked], axis=1)\n",
    "\n",
    "ndf.drop(['sex', 'embarked'], axis=1, inplace=True)\n",
    "print(ndf.head())   \n",
    "print('\\n')"
   ]
  },
  {
   "cell_type": "code",
   "execution_count": 4,
   "id": "c273e88b",
   "metadata": {},
   "outputs": [
    {
     "name": "stdout",
     "output_type": "stream",
     "text": [
      "train data 개수:  (499, 9)\n",
      "test data 개수:  (215, 9)\n"
     ]
    }
   ],
   "source": [
    "# 속성(변수) 선택\n",
    "X=ndf[['pclass', 'age', 'sibsp', 'parch', 'female', 'male', \n",
    "       'town_C', 'town_Q', 'town_S']]  #독립 변수 X\n",
    "y=ndf['survived']                      #종속 변수 Y\n",
    "\n",
    "# 설명 변수 데이터를 정규화(normalization)\n",
    "from sklearn import preprocessing\n",
    "X = preprocessing.StandardScaler().fit(X).transform(X)\n",
    "\n",
    "# train data 와 test data로 구분(7:3 비율)\n",
    "from sklearn.model_selection import train_test_split\n",
    "X_train, X_test, y_train, y_test = train_test_split(X, y, test_size=0.3, random_state=10) \n",
    "\n",
    "print('train data 개수: ', X_train.shape)\n",
    "print('test data 개수: ', X_test.shape)"
   ]
  },
  {
   "cell_type": "code",
   "execution_count": 5,
   "id": "40b4f79c",
   "metadata": {},
   "outputs": [
    {
     "name": "stdout",
     "output_type": "stream",
     "text": [
      "[0 0 1 0 0 1 1 1 0 0]\n",
      "[0 0 1 0 0 1 1 1 0 0]\n",
      "[[110  15]\n",
      " [ 26  64]]\n",
      "              precision    recall  f1-score   support\n",
      "\n",
      "           0       0.81      0.88      0.84       125\n",
      "           1       0.81      0.71      0.76        90\n",
      "\n",
      "    accuracy                           0.81       215\n",
      "   macro avg       0.81      0.80      0.80       215\n",
      "weighted avg       0.81      0.81      0.81       215\n",
      "\n"
     ]
    },
    {
     "name": "stderr",
     "output_type": "stream",
     "text": [
      "C:\\Users\\user\\anaconda3\\lib\\site-packages\\sklearn\\neighbors\\_classification.py:228: FutureWarning: Unlike other reduction functions (e.g. `skew`, `kurtosis`), the default behavior of `mode` typically preserves the axis it acts along. In SciPy 1.11.0, this behavior will change: the default value of `keepdims` will become False, the `axis` over which the statistic is taken will be eliminated, and the value None will no longer be accepted. Set `keepdims` to True or False to avoid this warning.\n",
      "  mode, _ = stats.mode(_y[neigh_ind, k], axis=1)\n"
     ]
    }
   ],
   "source": [
    "# sklearn 라이브러리에서 KNN 분류 모형 가져오기\n",
    "from sklearn.neighbors import KNeighborsClassifier\n",
    "\n",
    "# 모형 객체 생성 (k=5로 설정)\n",
    "knn = KNeighborsClassifier(n_neighbors=5)\n",
    "\n",
    "# train data를 가지고 모형 학습\n",
    "knn.fit(X_train, y_train)   \n",
    "\n",
    "# test data를 가지고 y_hat을 예측 (분류) \n",
    "y_hat = knn.predict(X_test)\n",
    "\n",
    "print(y_hat[0:10])\n",
    "print(y_test.values[0:10])\n",
    "\n",
    "# 모형 성능 평가 - Confusion Matrix 계산\n",
    "from sklearn import metrics \n",
    "knn_matrix = metrics.confusion_matrix(y_test, y_hat)  \n",
    "print(knn_matrix)\n",
    "\n",
    "# 모형 성능 평가 - 평가지표 계산\n",
    "knn_report = metrics.classification_report(y_test, y_hat)            \n",
    "print(knn_report)"
   ]
  },
  {
   "cell_type": "code",
   "execution_count": null,
   "id": "50122685",
   "metadata": {},
   "outputs": [],
   "source": []
  }
 ],
 "metadata": {
  "kernelspec": {
   "display_name": "Python 3 (ipykernel)",
   "language": "python",
   "name": "python3"
  },
  "language_info": {
   "codemirror_mode": {
    "name": "ipython",
    "version": 3
   },
   "file_extension": ".py",
   "mimetype": "text/x-python",
   "name": "python",
   "nbconvert_exporter": "python",
   "pygments_lexer": "ipython3",
   "version": "3.9.13"
  }
 },
 "nbformat": 4,
 "nbformat_minor": 5
}
