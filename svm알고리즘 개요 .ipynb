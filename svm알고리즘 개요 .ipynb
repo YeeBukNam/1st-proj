{
 "cells": [
  {
   "cell_type": "code",
   "execution_count": 8,
   "id": "3eaa00e9",
   "metadata": {},
   "outputs": [
    {
     "name": "stdout",
     "output_type": "stream",
     "text": [
      "[1]\n",
      "[1]\n",
      "[1]\n",
      "[1]\n"
     ]
    }
   ],
   "source": [
    "from sklearn.svm import SVC\n",
    "classifier = SVC(kernel = 'linear')\n",
    "training_points = [[1, 2], [1, 5], [2, 2], [7, 5], [9, 4], [8, 2]]\n",
    "labels = [1, 1, 1, 0, 0, 0]\n",
    "\n",
    "classifier.fit(training_points, labels) \n",
    "print(classifier.predict([[3, 2]]))\n",
    "\n",
    "\n",
    "from sklearn.svm import SVC #커널 지정하기 \n",
    "classifier = SVC(kernel = 'linear') #선형모형\n",
    "classifier.fit(training_points, labels) \n",
    "print(classifier.predict([[3, 2]]))\n",
    "\n",
    "classifier = SVC(kernel='rbf')#방사함수모형\n",
    "classifier.fit(training_points, labels) \n",
    "print(classifier.predict([[3, 2]]))\n",
    "\n",
    "classifier = SVC(kernel = \"rbf\", C = 2, gamma = 0.5)# gamma : 데이터 분류의 민감도 \n",
    "classifier.fit(training_points, labels) \n",
    "print(classifier.predict([[3, 2]]))"
   ]
  },
  {
   "cell_type": "code",
   "execution_count": null,
   "id": "284657e3",
   "metadata": {},
   "outputs": [],
   "source": []
  }
 ],
 "metadata": {
  "kernelspec": {
   "display_name": "Python 3 (ipykernel)",
   "language": "python",
   "name": "python3"
  },
  "language_info": {
   "codemirror_mode": {
    "name": "ipython",
    "version": 3
   },
   "file_extension": ".py",
   "mimetype": "text/x-python",
   "name": "python",
   "nbconvert_exporter": "python",
   "pygments_lexer": "ipython3",
   "version": "3.9.13"
  }
 },
 "nbformat": 4,
 "nbformat_minor": 5
}
